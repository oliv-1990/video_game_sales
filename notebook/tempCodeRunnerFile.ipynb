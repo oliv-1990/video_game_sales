df_games_year = pd.read_csv('raw/year_genre_region.csv')
